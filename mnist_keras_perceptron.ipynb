{
  "nbformat": 4,
  "nbformat_minor": 0,
  "metadata": {
    "colab": {
      "name": "mnist-keras-perceptron.ipynb",
      "provenance": [],
      "collapsed_sections": [],
      "include_colab_link": true
    },
    "kernelspec": {
      "name": "python3",
      "display_name": "Python 3"
    },
    "accelerator": "GPU"
  },
  "cells": [
    {
      "cell_type": "markdown",
      "metadata": {
        "id": "view-in-github",
        "colab_type": "text"
      },
      "source": [
        "<a href=\"https://colab.research.google.com/github/rsharanesh/StartingWithPython-ai1-fall2019/blob/master/mnist_keras_perceptron.ipynb\" target=\"_parent\"><img src=\"https://colab.research.google.com/assets/colab-badge.svg\" alt=\"Open In Colab\"/></a>"
      ]
    },
    {
      "cell_type": "code",
      "metadata": {
        "id": "0rrbVKm5n6E3",
        "colab_type": "code",
        "colab": {
          "base_uri": "https://localhost:8080/",
          "height": 34
        },
        "outputId": "de6a63a0-f5dc-41a8-c09d-ed5567ab3284"
      },
      "source": [
        "# taken from lukas/ml-class\n",
        "import numpy as np\n",
        "from keras.datasets import mnist\n",
        "from keras.models import Sequential\n",
        "from keras.layers import Dense, Flatten, Dropout\n",
        "from keras.utils import np_utils\n",
        "from keras.callbacks import Callback\n",
        "import json\n",
        "\n",
        "# from wandb.keras import WandbCallback\n",
        "# import wandb\n",
        "\n",
        "# run = wandb.init()\n",
        "# config = run.config\n",
        "\n",
        "\n"
      ],
      "execution_count": 1,
      "outputs": [
        {
          "output_type": "stream",
          "text": [
            "Using TensorFlow backend.\n"
          ],
          "name": "stderr"
        }
      ]
    },
    {
      "cell_type": "markdown",
      "metadata": {
        "id": "KkiNvSv6UXWi",
        "colab_type": "text"
      },
      "source": [
        "#### Hello World\n",
        "\n",
        "1.one\n",
        "\n",
        "2.two\n",
        "\n",
        "3.three\n",
        "\n",
        "List\n",
        "\n",
        "- hello\n",
        "- world\n",
        "\n",
        "Helo the $\\alpha$ is a greek letter\n",
        "\n",
        "$$\\alpha + \\beta + \\gamma = \\delta$$\n",
        "\n",
        "---\n",
        "\n",
        "\n"
      ]
    },
    {
      "cell_type": "code",
      "metadata": {
        "id": "H-UtphxwR7xT",
        "colab_type": "code",
        "outputId": "4ff607d9-9468-4fa2-d5c1-d181a7f6542a",
        "colab": {
          "base_uri": "https://localhost:8080/",
          "height": 68
        }
      },
      "source": [
        "class Config:#it is a configure class object to store te attributes of the particular model\n",
        "  pass\n",
        "\n",
        "config = Config() #its a object of the class\n",
        "config.optimizer = \"adam\" #its an optimiser (how are we minimising the cost function)\n",
        "config.epochs = 100 #number of times it must ook on same data \n",
        "config.hidden_nodes = 100 #number of intermediate nodes\n",
        "\n",
        "# load data (getting or inputting the data)\n",
        "(X_train, y_train), (X_test, y_test) = mnist.load_data()#load data will give us a two tuple (one is used for training and other for testing)\n",
        "img_width = X_train.shape[1]#28 cross 28 pixel image\n",
        "img_height = X_train.shape[2]\n",
        "print(X_train.shape, y_train.shape)#what value does ytrain have in a image(the category of 10(0-9))\n",
        "#X_train = X_train.astype('float32')\n",
        "#X_train /= 255.\n",
        "#X_test = X_test.astype('float32')\n",
        "#X_test /= 255.\n",
        "\n",
        "# Normalize, change learning rate, play with layer size, batchsize\n",
        "\n",
        "# one hot encode outputs--it makes one thing out of other\n",
        "\n",
        "y_train = np_utils.to_categorical(y_train)#we are assigning true or false with the comparison of the output of image with the actual number\n",
        "y_test = np_utils.to_categorical(y_test)\n",
        "labels = range(10)#categorically to 10 things\n",
        "\n",
        "num_classes = y_train.shape[1]\n"
      ],
      "execution_count": 2,
      "outputs": [
        {
          "output_type": "stream",
          "text": [
            "Downloading data from https://s3.amazonaws.com/img-datasets/mnist.npz\n",
            "11493376/11490434 [==============================] - 2s 0us/step\n",
            "(60000, 28, 28) (60000,)\n"
          ],
          "name": "stdout"
        }
      ]
    },
    {
      "cell_type": "code",
      "metadata": {
        "id": "GGUIGcBCOAMz",
        "colab_type": "code",
        "colab": {
          "base_uri": "https://localhost:8080/",
          "height": 34
        },
        "outputId": "3929190f-aadc-4fb1-d06b-f39217e17d42"
      },
      "source": [
        "y_train[0]\n"
      ],
      "execution_count": 5,
      "outputs": [
        {
          "output_type": "execute_result",
          "data": {
            "text/plain": [
              "array([0., 0., 0., 0., 0., 1., 0., 0., 0., 0.], dtype=float32)"
            ]
          },
          "metadata": {
            "tags": []
          },
          "execution_count": 5
        }
      ]
    },
    {
      "cell_type": "code",
      "metadata": {
        "id": "DMdbirqCR79B",
        "colab_type": "code",
        "outputId": "080f2dbd-da3b-423b-e79d-9c4c53452d4d",
        "colab": {
          "base_uri": "https://localhost:8080/",
          "height": 649
        }
      },
      "source": [
        "# create model\n",
        "model = Sequential()#let us define a nueral network layer by layer\n",
        "model.add(Flatten(input_shape=(img_width, img_height)))#converting to array of 784 numbers (seperate nuerons)\n",
        "model.add(Dense(config.hidden_nodes, activation='relu'))#this is an intermediate layer\n",
        "model.add(Dense(config.hidden_nodes, activation='relu'))#feeding the 784 indivual nurons into a network with the activation of relu\n",
        "model.add(Dense(config.hidden_nodes, activation='relu'))\n",
        "model.add(Dense(config.hidden_nodes, activation='relu'))#we are haing around 30 nuerons\n",
        "model.add(Dense(config.hidden_nodes, activation='relu'))\n",
        "model.add(Dense(config.hidden_nodes, activation='relu'))#here relu is the non linear function\n",
        "model.add(Dense(config.hidden_nodes, activation='relu'))#relu is 0 below 1 and the number itself if its above 1\n",
        "model.add(Dense(num_classes, activation='softmax'))#this gives us te probablity and ensures that the probablity sum of all 10 things is 1\n",
        "model.compile(loss='categorical_crossentropy', optimizer=config.optimizer,\n",
        "              metrics=['accuracy'])#excuting our model that we created\n",
        "#loss function is categorical crossentropy and use adam to find the least error and accuracy is \n",
        "#(taking every sample and checking if true take 1 and if false take 0 and find the mean)\n",
        "model.summary()#it tells about the layers we use and the total parameters"
      ],
      "execution_count": 3,
      "outputs": [
        {
          "output_type": "stream",
          "text": [
            "WARNING:tensorflow:From /usr/local/lib/python3.6/dist-packages/keras/backend/tensorflow_backend.py:66: The name tf.get_default_graph is deprecated. Please use tf.compat.v1.get_default_graph instead.\n",
            "\n",
            "WARNING:tensorflow:From /usr/local/lib/python3.6/dist-packages/keras/backend/tensorflow_backend.py:541: The name tf.placeholder is deprecated. Please use tf.compat.v1.placeholder instead.\n",
            "\n",
            "WARNING:tensorflow:From /usr/local/lib/python3.6/dist-packages/keras/backend/tensorflow_backend.py:4432: The name tf.random_uniform is deprecated. Please use tf.random.uniform instead.\n",
            "\n",
            "WARNING:tensorflow:From /usr/local/lib/python3.6/dist-packages/keras/optimizers.py:793: The name tf.train.Optimizer is deprecated. Please use tf.compat.v1.train.Optimizer instead.\n",
            "\n",
            "WARNING:tensorflow:From /usr/local/lib/python3.6/dist-packages/keras/backend/tensorflow_backend.py:3576: The name tf.log is deprecated. Please use tf.math.log instead.\n",
            "\n",
            "Model: \"sequential_1\"\n",
            "_________________________________________________________________\n",
            "Layer (type)                 Output Shape              Param #   \n",
            "=================================================================\n",
            "flatten_1 (Flatten)          (None, 784)               0         \n",
            "_________________________________________________________________\n",
            "dense_1 (Dense)              (None, 100)               78500     \n",
            "_________________________________________________________________\n",
            "dense_2 (Dense)              (None, 100)               10100     \n",
            "_________________________________________________________________\n",
            "dense_3 (Dense)              (None, 100)               10100     \n",
            "_________________________________________________________________\n",
            "dense_4 (Dense)              (None, 100)               10100     \n",
            "_________________________________________________________________\n",
            "dense_5 (Dense)              (None, 100)               10100     \n",
            "_________________________________________________________________\n",
            "dense_6 (Dense)              (None, 100)               10100     \n",
            "_________________________________________________________________\n",
            "dense_7 (Dense)              (None, 100)               10100     \n",
            "_________________________________________________________________\n",
            "dense_8 (Dense)              (None, 10)                1010      \n",
            "=================================================================\n",
            "Total params: 140,110\n",
            "Trainable params: 140,110\n",
            "Non-trainable params: 0\n",
            "_________________________________________________________________\n"
          ],
          "name": "stdout"
        }
      ]
    },
    {
      "cell_type": "code",
      "metadata": {
        "id": "hgnaj9osR8JW",
        "colab_type": "code",
        "outputId": "9cb5f4cc-1407-46af-f2f6-6bae92c58e2e",
        "colab": {
          "base_uri": "https://localhost:8080/",
          "height": 1000
        }
      },
      "source": [
        "\n",
        "\n",
        "# Fit the model\n",
        "model.fit(X_train, y_train, validation_data=(X_test, y_test),\n",
        "          epochs=config.epochs)"
      ],
      "execution_count": 4,
      "outputs": [
        {
          "output_type": "stream",
          "text": [
            "WARNING:tensorflow:From /usr/local/lib/python3.6/dist-packages/tensorflow_core/python/ops/math_grad.py:1424: where (from tensorflow.python.ops.array_ops) is deprecated and will be removed in a future version.\n",
            "Instructions for updating:\n",
            "Use tf.where in 2.0, which has the same broadcast rule as np.where\n",
            "WARNING:tensorflow:From /usr/local/lib/python3.6/dist-packages/keras/backend/tensorflow_backend.py:1033: The name tf.assign_add is deprecated. Please use tf.compat.v1.assign_add instead.\n",
            "\n",
            "WARNING:tensorflow:From /usr/local/lib/python3.6/dist-packages/keras/backend/tensorflow_backend.py:1020: The name tf.assign is deprecated. Please use tf.compat.v1.assign instead.\n",
            "\n",
            "WARNING:tensorflow:From /usr/local/lib/python3.6/dist-packages/keras/backend/tensorflow_backend.py:3005: The name tf.Session is deprecated. Please use tf.compat.v1.Session instead.\n",
            "\n",
            "Train on 60000 samples, validate on 10000 samples\n",
            "Epoch 1/100\n",
            "WARNING:tensorflow:From /usr/local/lib/python3.6/dist-packages/keras/backend/tensorflow_backend.py:190: The name tf.get_default_session is deprecated. Please use tf.compat.v1.get_default_session instead.\n",
            "\n",
            "WARNING:tensorflow:From /usr/local/lib/python3.6/dist-packages/keras/backend/tensorflow_backend.py:197: The name tf.ConfigProto is deprecated. Please use tf.compat.v1.ConfigProto instead.\n",
            "\n",
            "WARNING:tensorflow:From /usr/local/lib/python3.6/dist-packages/keras/backend/tensorflow_backend.py:207: The name tf.global_variables is deprecated. Please use tf.compat.v1.global_variables instead.\n",
            "\n",
            "WARNING:tensorflow:From /usr/local/lib/python3.6/dist-packages/keras/backend/tensorflow_backend.py:216: The name tf.is_variable_initialized is deprecated. Please use tf.compat.v1.is_variable_initialized instead.\n",
            "\n",
            "WARNING:tensorflow:From /usr/local/lib/python3.6/dist-packages/keras/backend/tensorflow_backend.py:223: The name tf.variables_initializer is deprecated. Please use tf.compat.v1.variables_initializer instead.\n",
            "\n",
            "60000/60000 [==============================] - 20s 332us/step - loss: 0.4098 - acc: 0.8877 - val_loss: 0.2144 - val_acc: 0.9367\n",
            "Epoch 2/100\n",
            "60000/60000 [==============================] - 15s 253us/step - loss: 0.1849 - acc: 0.9469 - val_loss: 0.1829 - val_acc: 0.9502\n",
            "Epoch 3/100\n",
            "60000/60000 [==============================] - 15s 251us/step - loss: 0.1464 - acc: 0.9593 - val_loss: 0.2418 - val_acc: 0.9340\n",
            "Epoch 4/100\n",
            "60000/60000 [==============================] - 15s 251us/step - loss: 0.1243 - acc: 0.9660 - val_loss: 0.1190 - val_acc: 0.9688\n",
            "Epoch 5/100\n",
            "60000/60000 [==============================] - 15s 250us/step - loss: 0.1088 - acc: 0.9705 - val_loss: 0.1314 - val_acc: 0.9665\n",
            "Epoch 6/100\n",
            "60000/60000 [==============================] - 15s 251us/step - loss: 0.0937 - acc: 0.9754 - val_loss: 0.1239 - val_acc: 0.9711\n",
            "Epoch 7/100\n",
            "60000/60000 [==============================] - 15s 257us/step - loss: 0.0843 - acc: 0.9770 - val_loss: 0.1343 - val_acc: 0.9670\n",
            "Epoch 8/100\n",
            "60000/60000 [==============================] - 15s 251us/step - loss: 0.0806 - acc: 0.9785 - val_loss: 0.1348 - val_acc: 0.9700\n",
            "Epoch 9/100\n",
            "60000/60000 [==============================] - 15s 249us/step - loss: 0.0715 - acc: 0.9812 - val_loss: 0.1109 - val_acc: 0.9730\n",
            "Epoch 10/100\n",
            "60000/60000 [==============================] - 15s 252us/step - loss: 0.0714 - acc: 0.9820 - val_loss: 0.1186 - val_acc: 0.9731\n",
            "Epoch 11/100\n",
            "60000/60000 [==============================] - 15s 252us/step - loss: 0.0606 - acc: 0.9840 - val_loss: 0.1355 - val_acc: 0.9729\n",
            "Epoch 12/100\n",
            "60000/60000 [==============================] - 15s 252us/step - loss: 0.0631 - acc: 0.9842 - val_loss: 0.1181 - val_acc: 0.9737\n",
            "Epoch 13/100\n",
            "60000/60000 [==============================] - 15s 252us/step - loss: 0.0569 - acc: 0.9860 - val_loss: 0.1308 - val_acc: 0.9719\n",
            "Epoch 14/100\n",
            "60000/60000 [==============================] - 15s 251us/step - loss: 0.0511 - acc: 0.9868 - val_loss: 0.1325 - val_acc: 0.9728\n",
            "Epoch 15/100\n",
            "60000/60000 [==============================] - 15s 250us/step - loss: 0.0566 - acc: 0.9869 - val_loss: 0.1306 - val_acc: 0.9704\n",
            "Epoch 16/100\n",
            "60000/60000 [==============================] - 15s 248us/step - loss: 0.0494 - acc: 0.9878 - val_loss: 0.1191 - val_acc: 0.9753\n",
            "Epoch 17/100\n",
            "60000/60000 [==============================] - 15s 250us/step - loss: 0.0475 - acc: 0.9880 - val_loss: 0.1341 - val_acc: 0.9703\n",
            "Epoch 18/100\n",
            "60000/60000 [==============================] - 15s 251us/step - loss: 0.0518 - acc: 0.9880 - val_loss: 0.1437 - val_acc: 0.9702\n",
            "Epoch 19/100\n",
            "60000/60000 [==============================] - 15s 249us/step - loss: 0.0481 - acc: 0.9890 - val_loss: 0.1788 - val_acc: 0.9658\n",
            "Epoch 20/100\n",
            "60000/60000 [==============================] - 15s 249us/step - loss: 0.0504 - acc: 0.9885 - val_loss: 0.1255 - val_acc: 0.9740\n",
            "Epoch 21/100\n",
            "60000/60000 [==============================] - 15s 250us/step - loss: 0.0384 - acc: 0.9912 - val_loss: 0.1288 - val_acc: 0.9759\n",
            "Epoch 22/100\n",
            "60000/60000 [==============================] - 15s 250us/step - loss: 0.0404 - acc: 0.9911 - val_loss: 0.1155 - val_acc: 0.9786\n",
            "Epoch 23/100\n",
            "60000/60000 [==============================] - 15s 250us/step - loss: 0.0377 - acc: 0.9917 - val_loss: 0.1616 - val_acc: 0.9751\n",
            "Epoch 24/100\n",
            "60000/60000 [==============================] - 15s 253us/step - loss: 0.0467 - acc: 0.9896 - val_loss: 0.1602 - val_acc: 0.9679\n",
            "Epoch 25/100\n",
            "60000/60000 [==============================] - 15s 249us/step - loss: 0.0368 - acc: 0.9912 - val_loss: 0.1377 - val_acc: 0.9773\n",
            "Epoch 26/100\n",
            "60000/60000 [==============================] - 15s 250us/step - loss: 0.0325 - acc: 0.9924 - val_loss: 0.1524 - val_acc: 0.9735\n",
            "Epoch 27/100\n",
            "60000/60000 [==============================] - 15s 251us/step - loss: 0.0447 - acc: 0.9902 - val_loss: 0.1511 - val_acc: 0.9729\n",
            "Epoch 28/100\n",
            "60000/60000 [==============================] - 15s 249us/step - loss: 0.0351 - acc: 0.9922 - val_loss: 0.1232 - val_acc: 0.9787\n",
            "Epoch 29/100\n",
            "60000/60000 [==============================] - 15s 243us/step - loss: 0.0375 - acc: 0.9918 - val_loss: 0.1462 - val_acc: 0.9742\n",
            "Epoch 30/100\n",
            "60000/60000 [==============================] - 14s 242us/step - loss: 0.0366 - acc: 0.9920 - val_loss: 0.1706 - val_acc: 0.9759\n",
            "Epoch 31/100\n",
            "60000/60000 [==============================] - 14s 242us/step - loss: 0.0296 - acc: 0.9929 - val_loss: 0.1401 - val_acc: 0.9759\n",
            "Epoch 32/100\n",
            "60000/60000 [==============================] - 15s 242us/step - loss: 0.0307 - acc: 0.9930 - val_loss: 0.1751 - val_acc: 0.9738\n",
            "Epoch 33/100\n",
            "60000/60000 [==============================] - 15s 242us/step - loss: 0.0384 - acc: 0.9921 - val_loss: 0.1412 - val_acc: 0.9777\n",
            "Epoch 34/100\n",
            "60000/60000 [==============================] - 15s 243us/step - loss: 0.0454 - acc: 0.9911 - val_loss: 0.1660 - val_acc: 0.9765\n",
            "Epoch 35/100\n",
            "60000/60000 [==============================] - 14s 241us/step - loss: 0.0441 - acc: 0.9912 - val_loss: 0.1763 - val_acc: 0.9710\n",
            "Epoch 36/100\n",
            "60000/60000 [==============================] - 15s 242us/step - loss: 0.0418 - acc: 0.9912 - val_loss: 0.2220 - val_acc: 0.9691\n",
            "Epoch 37/100\n",
            "60000/60000 [==============================] - 15s 243us/step - loss: 0.0383 - acc: 0.9924 - val_loss: 0.1585 - val_acc: 0.9775\n",
            "Epoch 38/100\n",
            "60000/60000 [==============================] - 15s 243us/step - loss: 0.0394 - acc: 0.9923 - val_loss: 0.2386 - val_acc: 0.9702\n",
            "Epoch 39/100\n",
            "60000/60000 [==============================] - 15s 242us/step - loss: 0.0404 - acc: 0.9914 - val_loss: 0.1621 - val_acc: 0.9752\n",
            "Epoch 40/100\n",
            "60000/60000 [==============================] - 15s 246us/step - loss: 0.0304 - acc: 0.9937 - val_loss: 0.2476 - val_acc: 0.9703\n",
            "Epoch 41/100\n",
            "60000/60000 [==============================] - 15s 243us/step - loss: 0.0524 - acc: 0.9898 - val_loss: 0.1843 - val_acc: 0.9762\n",
            "Epoch 42/100\n",
            "60000/60000 [==============================] - 15s 243us/step - loss: 0.0311 - acc: 0.9943 - val_loss: 0.1926 - val_acc: 0.9749\n",
            "Epoch 43/100\n",
            "60000/60000 [==============================] - 15s 242us/step - loss: 0.0400 - acc: 0.9929 - val_loss: 0.2032 - val_acc: 0.9736\n",
            "Epoch 44/100\n",
            "60000/60000 [==============================] - 15s 244us/step - loss: 0.0419 - acc: 0.9931 - val_loss: 0.1748 - val_acc: 0.9759\n",
            "Epoch 45/100\n",
            "60000/60000 [==============================] - 15s 246us/step - loss: 0.0409 - acc: 0.9922 - val_loss: 0.1515 - val_acc: 0.9768\n",
            "Epoch 46/100\n",
            "60000/60000 [==============================] - 15s 243us/step - loss: 0.0252 - acc: 0.9946 - val_loss: 0.1691 - val_acc: 0.9789\n",
            "Epoch 47/100\n",
            "60000/60000 [==============================] - 15s 244us/step - loss: 0.0524 - acc: 0.9909 - val_loss: 0.1524 - val_acc: 0.9772\n",
            "Epoch 48/100\n",
            "60000/60000 [==============================] - 15s 244us/step - loss: 0.0282 - acc: 0.9943 - val_loss: 0.2144 - val_acc: 0.9747\n",
            "Epoch 49/100\n",
            "60000/60000 [==============================] - 15s 246us/step - loss: 0.0338 - acc: 0.9934 - val_loss: 0.1786 - val_acc: 0.9763\n",
            "Epoch 50/100\n",
            "60000/60000 [==============================] - 15s 242us/step - loss: 0.0324 - acc: 0.9940 - val_loss: 0.2250 - val_acc: 0.9640\n",
            "Epoch 51/100\n",
            "60000/60000 [==============================] - 14s 241us/step - loss: 0.0639 - acc: 0.9911 - val_loss: 0.2003 - val_acc: 0.9719\n",
            "Epoch 52/100\n",
            "60000/60000 [==============================] - 15s 243us/step - loss: 0.0346 - acc: 0.9940 - val_loss: 0.1680 - val_acc: 0.9769\n",
            "Epoch 53/100\n",
            "60000/60000 [==============================] - 14s 241us/step - loss: 0.0265 - acc: 0.9953 - val_loss: 0.2237 - val_acc: 0.9762\n",
            "Epoch 54/100\n",
            "60000/60000 [==============================] - 15s 242us/step - loss: 0.0825 - acc: 0.9902 - val_loss: 0.3337 - val_acc: 0.9674\n",
            "Epoch 55/100\n",
            "60000/60000 [==============================] - 15s 245us/step - loss: 0.0705 - acc: 0.9899 - val_loss: 0.1686 - val_acc: 0.9772\n",
            "Epoch 56/100\n",
            "60000/60000 [==============================] - 15s 244us/step - loss: 0.0322 - acc: 0.9938 - val_loss: 0.1944 - val_acc: 0.9755\n",
            "Epoch 57/100\n",
            "60000/60000 [==============================] - 15s 244us/step - loss: 0.0489 - acc: 0.9928 - val_loss: 0.1958 - val_acc: 0.9764\n",
            "Epoch 58/100\n",
            "60000/60000 [==============================] - 15s 243us/step - loss: 0.0490 - acc: 0.9924 - val_loss: 0.1929 - val_acc: 0.9718\n",
            "Epoch 59/100\n",
            "60000/60000 [==============================] - 15s 246us/step - loss: 0.0427 - acc: 0.9927 - val_loss: 0.2296 - val_acc: 0.9713\n",
            "Epoch 60/100\n",
            "60000/60000 [==============================] - 15s 244us/step - loss: 0.0474 - acc: 0.9914 - val_loss: 0.2149 - val_acc: 0.9739\n",
            "Epoch 61/100\n",
            "60000/60000 [==============================] - 15s 243us/step - loss: 0.0416 - acc: 0.9930 - val_loss: 0.1979 - val_acc: 0.9761\n",
            "Epoch 62/100\n",
            "60000/60000 [==============================] - 15s 243us/step - loss: 0.0439 - acc: 0.9920 - val_loss: 0.1878 - val_acc: 0.9740\n",
            "Epoch 63/100\n",
            "60000/60000 [==============================] - 15s 242us/step - loss: 0.0555 - acc: 0.9918 - val_loss: 0.2036 - val_acc: 0.9696\n",
            "Epoch 64/100\n",
            "60000/60000 [==============================] - 15s 244us/step - loss: 0.0413 - acc: 0.9937 - val_loss: 0.2098 - val_acc: 0.9762\n",
            "Epoch 65/100\n",
            "60000/60000 [==============================] - 15s 242us/step - loss: 0.0411 - acc: 0.9933 - val_loss: 0.2574 - val_acc: 0.9748\n",
            "Epoch 66/100\n",
            "60000/60000 [==============================] - 15s 244us/step - loss: 0.0483 - acc: 0.9915 - val_loss: 0.1926 - val_acc: 0.9759\n",
            "Epoch 67/100\n",
            "60000/60000 [==============================] - 15s 243us/step - loss: 0.0358 - acc: 0.9934 - val_loss: 0.2607 - val_acc: 0.9725\n",
            "Epoch 68/100\n",
            "60000/60000 [==============================] - 14s 241us/step - loss: 0.0423 - acc: 0.9923 - val_loss: 0.2339 - val_acc: 0.9755\n",
            "Epoch 69/100\n",
            "60000/60000 [==============================] - 14s 241us/step - loss: 0.0680 - acc: 0.9899 - val_loss: 0.2000 - val_acc: 0.9738\n",
            "Epoch 70/100\n",
            "60000/60000 [==============================] - 15s 244us/step - loss: 0.0454 - acc: 0.9919 - val_loss: 0.2153 - val_acc: 0.9732\n",
            "Epoch 71/100\n",
            "60000/60000 [==============================] - 14s 241us/step - loss: 0.5661 - acc: 0.9586 - val_loss: 0.3024 - val_acc: 0.9688\n",
            "Epoch 72/100\n",
            "60000/60000 [==============================] - 15s 242us/step - loss: 0.0957 - acc: 0.9869 - val_loss: 0.3139 - val_acc: 0.9676\n",
            "Epoch 73/100\n",
            "60000/60000 [==============================] - 15s 242us/step - loss: 0.0866 - acc: 0.9885 - val_loss: 0.2334 - val_acc: 0.9719\n",
            "Epoch 74/100\n",
            "60000/60000 [==============================] - 14s 239us/step - loss: 0.0830 - acc: 0.9902 - val_loss: 0.2749 - val_acc: 0.9704\n",
            "Epoch 75/100\n",
            "60000/60000 [==============================] - 14s 238us/step - loss: 0.1079 - acc: 0.9838 - val_loss: 0.2581 - val_acc: 0.9721\n",
            "Epoch 76/100\n",
            "60000/60000 [==============================] - 14s 241us/step - loss: 0.1222 - acc: 0.9820 - val_loss: 0.2064 - val_acc: 0.9743\n",
            "Epoch 77/100\n",
            "60000/60000 [==============================] - 14s 241us/step - loss: 0.1181 - acc: 0.9853 - val_loss: 0.2169 - val_acc: 0.9724\n",
            "Epoch 78/100\n",
            "60000/60000 [==============================] - 14s 239us/step - loss: 0.0896 - acc: 0.9857 - val_loss: 0.2404 - val_acc: 0.9692\n",
            "Epoch 79/100\n",
            "60000/60000 [==============================] - 14s 239us/step - loss: 0.0601 - acc: 0.9890 - val_loss: 0.2057 - val_acc: 0.9767\n",
            "Epoch 80/100\n",
            "60000/60000 [==============================] - 14s 241us/step - loss: 0.0893 - acc: 0.9842 - val_loss: 0.2161 - val_acc: 0.9718\n",
            "Epoch 81/100\n",
            "60000/60000 [==============================] - 15s 242us/step - loss: 0.0835 - acc: 0.9885 - val_loss: 0.3634 - val_acc: 0.9694\n",
            "Epoch 82/100\n",
            "60000/60000 [==============================] - 14s 239us/step - loss: 0.1253 - acc: 0.9866 - val_loss: 0.2236 - val_acc: 0.9715\n",
            "Epoch 83/100\n",
            "60000/60000 [==============================] - 14s 240us/step - loss: 0.0658 - acc: 0.9874 - val_loss: 0.1903 - val_acc: 0.9725\n",
            "Epoch 84/100\n",
            "60000/60000 [==============================] - 14s 240us/step - loss: 0.0373 - acc: 0.9930 - val_loss: 0.2203 - val_acc: 0.9765\n",
            "Epoch 85/100\n",
            "60000/60000 [==============================] - 14s 240us/step - loss: 0.0478 - acc: 0.9934 - val_loss: 0.2357 - val_acc: 0.9718\n",
            "Epoch 86/100\n",
            "60000/60000 [==============================] - 14s 240us/step - loss: 0.0757 - acc: 0.9879 - val_loss: 0.3940 - val_acc: 0.9642\n",
            "Epoch 87/100\n",
            "60000/60000 [==============================] - 15s 243us/step - loss: 0.0931 - acc: 0.9881 - val_loss: 0.3482 - val_acc: 0.9651\n",
            "Epoch 88/100\n",
            "60000/60000 [==============================] - 15s 242us/step - loss: 0.0723 - acc: 0.9912 - val_loss: 0.2480 - val_acc: 0.9762\n",
            "Epoch 89/100\n",
            "60000/60000 [==============================] - 15s 242us/step - loss: 0.0764 - acc: 0.9895 - val_loss: 0.1861 - val_acc: 0.9765\n",
            "Epoch 90/100\n",
            "60000/60000 [==============================] - 14s 242us/step - loss: 0.0517 - acc: 0.9925 - val_loss: 0.2218 - val_acc: 0.9742\n",
            "Epoch 91/100\n",
            "60000/60000 [==============================] - 14s 240us/step - loss: 0.0586 - acc: 0.9901 - val_loss: 0.2165 - val_acc: 0.9770\n",
            "Epoch 92/100\n",
            "60000/60000 [==============================] - 15s 244us/step - loss: 0.1346 - acc: 0.9827 - val_loss: 0.3288 - val_acc: 0.9537\n",
            "Epoch 93/100\n",
            "60000/60000 [==============================] - 14s 239us/step - loss: 0.0669 - acc: 0.9876 - val_loss: 0.1847 - val_acc: 0.9724\n",
            "Epoch 94/100\n",
            "60000/60000 [==============================] - 14s 240us/step - loss: 0.1377 - acc: 0.9811 - val_loss: 0.2437 - val_acc: 0.9683\n",
            "Epoch 95/100\n",
            "60000/60000 [==============================] - 14s 240us/step - loss: 0.0676 - acc: 0.9877 - val_loss: 0.2697 - val_acc: 0.9696\n",
            "Epoch 96/100\n",
            "60000/60000 [==============================] - 14s 242us/step - loss: 0.1394 - acc: 0.9852 - val_loss: 0.2386 - val_acc: 0.9762\n",
            "Epoch 97/100\n",
            "60000/60000 [==============================] - 14s 240us/step - loss: 0.1027 - acc: 0.9868 - val_loss: 0.2553 - val_acc: 0.9721\n",
            "Epoch 98/100\n",
            "60000/60000 [==============================] - 14s 241us/step - loss: 0.0459 - acc: 0.9922 - val_loss: 0.2135 - val_acc: 0.9737\n",
            "Epoch 99/100\n",
            "60000/60000 [==============================] - 14s 241us/step - loss: 0.0441 - acc: 0.9935 - val_loss: 0.2864 - val_acc: 0.9682\n",
            "Epoch 100/100\n",
            "60000/60000 [==============================] - 14s 241us/step - loss: 0.1440 - acc: 0.9688 - val_loss: 0.4820 - val_acc: 0.8819\n"
          ],
          "name": "stdout"
        },
        {
          "output_type": "execute_result",
          "data": {
            "text/plain": [
              "<keras.callbacks.History at 0x7f72123e7c18>"
            ]
          },
          "metadata": {
            "tags": []
          },
          "execution_count": 4
        }
      ]
    },
    {
      "cell_type": "code",
      "metadata": {
        "id": "25yuhNGHRth_",
        "colab_type": "code",
        "colab": {
          "base_uri": "https://localhost:8080/",
          "height": 34
        },
        "outputId": "2b363da9-f7b7-4b40-df1a-21411b54f887"
      },
      "source": [
        "_4\n"
      ],
      "execution_count": 8,
      "outputs": [
        {
          "output_type": "execute_result",
          "data": {
            "text/plain": [
              "<keras.callbacks.History at 0x7f72123e7c18>"
            ]
          },
          "metadata": {
            "tags": []
          },
          "execution_count": 8
        }
      ]
    },
    {
      "cell_type": "code",
      "metadata": {
        "id": "j2K0wH7bRtx6",
        "colab_type": "code",
        "colab": {
          "base_uri": "https://localhost:8080/",
          "height": 1000
        },
        "outputId": "0b1dbe8b-49da-4c8d-dc32-69831182a2e2"
      },
      "source": [
        "_4.history#gives the output values of the code runned in the 4th loop time\n"
      ],
      "execution_count": 9,
      "outputs": [
        {
          "output_type": "execute_result",
          "data": {
            "text/plain": [
              "{'acc': [0.8877333333333334,\n",
              "  0.9469166666666666,\n",
              "  0.9592666666666667,\n",
              "  0.96605,\n",
              "  0.9705,\n",
              "  0.9753666666666667,\n",
              "  0.977,\n",
              "  0.9785333333333334,\n",
              "  0.9812166666666666,\n",
              "  0.9819833333333333,\n",
              "  0.9839666666666667,\n",
              "  0.9842166666666666,\n",
              "  0.9859833333333333,\n",
              "  0.9868,\n",
              "  0.9869,\n",
              "  0.9878,\n",
              "  0.98805,\n",
              "  0.9879833333333333,\n",
              "  0.9890333333333333,\n",
              "  0.9885333333333334,\n",
              "  0.9911833333333333,\n",
              "  0.9911333333333333,\n",
              "  0.9917166666666667,\n",
              "  0.9896333333333334,\n",
              "  0.9912166666666666,\n",
              "  0.9924,\n",
              "  0.9902166666666666,\n",
              "  0.9922166666666666,\n",
              "  0.9918166666666667,\n",
              "  0.9919666666666667,\n",
              "  0.9929333333333333,\n",
              "  0.9929666666666667,\n",
              "  0.9921333333333333,\n",
              "  0.9911333333333333,\n",
              "  0.9911833333333333,\n",
              "  0.9911833333333333,\n",
              "  0.9924333333333333,\n",
              "  0.9922833333333333,\n",
              "  0.9914,\n",
              "  0.9937,\n",
              "  0.9898,\n",
              "  0.9943,\n",
              "  0.9929,\n",
              "  0.9931166666666666,\n",
              "  0.9922166666666666,\n",
              "  0.9946166666666667,\n",
              "  0.9908666666666667,\n",
              "  0.9942666666666666,\n",
              "  0.9933833333333333,\n",
              "  0.99405,\n",
              "  0.9911333333333333,\n",
              "  0.9939833333333333,\n",
              "  0.99535,\n",
              "  0.9902,\n",
              "  0.98995,\n",
              "  0.9938,\n",
              "  0.9928166666666667,\n",
              "  0.9924,\n",
              "  0.9927333333333334,\n",
              "  0.9913666666666666,\n",
              "  0.99305,\n",
              "  0.9920166666666667,\n",
              "  0.9917666666666667,\n",
              "  0.9936666666666667,\n",
              "  0.99335,\n",
              "  0.9914833333333334,\n",
              "  0.9934333333333333,\n",
              "  0.9922833333333333,\n",
              "  0.9899,\n",
              "  0.9919333333333333,\n",
              "  0.9586166666666667,\n",
              "  0.98685,\n",
              "  0.9884666666666667,\n",
              "  0.9902166666666666,\n",
              "  0.9838333333333333,\n",
              "  0.9820333333333333,\n",
              "  0.9853333333333333,\n",
              "  0.9857333333333334,\n",
              "  0.9890333333333333,\n",
              "  0.9842166666666666,\n",
              "  0.9884833333333334,\n",
              "  0.98655,\n",
              "  0.9873833333333333,\n",
              "  0.9929833333333333,\n",
              "  0.99345,\n",
              "  0.9879,\n",
              "  0.9880666666666666,\n",
              "  0.9912166666666666,\n",
              "  0.9894666666666667,\n",
              "  0.9924666666666667,\n",
              "  0.9901333333333333,\n",
              "  0.9826833333333334,\n",
              "  0.9876166666666667,\n",
              "  0.98105,\n",
              "  0.9877166666666667,\n",
              "  0.9852,\n",
              "  0.9868,\n",
              "  0.9921833333333333,\n",
              "  0.9935,\n",
              "  0.9688],\n",
              " 'loss': [0.40978908898880084,\n",
              "  0.18489094530269504,\n",
              "  0.14641296476156762,\n",
              "  0.12429458509922649,\n",
              "  0.10879930078880862,\n",
              "  0.09374760941322893,\n",
              "  0.08426597124395194,\n",
              "  0.08055573356787209,\n",
              "  0.07150720931272954,\n",
              "  0.07136644720082404,\n",
              "  0.06059146683961541,\n",
              "  0.06312713676335067,\n",
              "  0.05691898251602446,\n",
              "  0.05114912547028798,\n",
              "  0.05655192246297677,\n",
              "  0.0493600492046205,\n",
              "  0.04748846010251291,\n",
              "  0.05183505651631179,\n",
              "  0.04809136763741432,\n",
              "  0.050423121212163885,\n",
              "  0.03838694049223583,\n",
              "  0.040437430816493314,\n",
              "  0.03765846544448051,\n",
              "  0.046719690634169565,\n",
              "  0.03678054512702779,\n",
              "  0.032513780553247065,\n",
              "  0.044730807262762934,\n",
              "  0.03507335537793245,\n",
              "  0.037508246423356546,\n",
              "  0.036564554621843125,\n",
              "  0.029609528150367086,\n",
              "  0.030693797232121022,\n",
              "  0.03840244378550925,\n",
              "  0.045365391355561564,\n",
              "  0.04411888429636506,\n",
              "  0.041820251833438384,\n",
              "  0.03830862770096159,\n",
              "  0.03940819262744421,\n",
              "  0.040387228790465045,\n",
              "  0.030440248511863048,\n",
              "  0.052419578546742805,\n",
              "  0.031104978083595042,\n",
              "  0.040023760009185616,\n",
              "  0.04193338190704792,\n",
              "  0.040876509256408275,\n",
              "  0.025173254638229066,\n",
              "  0.052352344224763425,\n",
              "  0.028173615320997502,\n",
              "  0.03384024445923597,\n",
              "  0.03240569834525137,\n",
              "  0.06393375043991549,\n",
              "  0.03456994847084358,\n",
              "  0.026501666990353466,\n",
              "  0.08249503241023268,\n",
              "  0.07046099181223155,\n",
              "  0.032153456637428426,\n",
              "  0.048851895538086956,\n",
              "  0.049018246032524304,\n",
              "  0.0426912537483038,\n",
              "  0.047444981765315926,\n",
              "  0.0415584871224605,\n",
              "  0.04394246393928511,\n",
              "  0.055534798090869565,\n",
              "  0.041258420302306364,\n",
              "  0.04107365582165021,\n",
              "  0.04832996711425167,\n",
              "  0.035804755446541034,\n",
              "  0.042289615376341835,\n",
              "  0.0680125326797239,\n",
              "  0.04537423588157119,\n",
              "  0.566143453209118,\n",
              "  0.09570133997582882,\n",
              "  0.08664044797201774,\n",
              "  0.08295251811080964,\n",
              "  0.10789323127563424,\n",
              "  0.12219190456110808,\n",
              "  0.11812590642376301,\n",
              "  0.08958362401065705,\n",
              "  0.060087886478029894,\n",
              "  0.08932599304515886,\n",
              "  0.08348504945326092,\n",
              "  0.12525142892030397,\n",
              "  0.06582126586075965,\n",
              "  0.03731590592919081,\n",
              "  0.047841517112670505,\n",
              "  0.07571469352447852,\n",
              "  0.09310268212174397,\n",
              "  0.07233366900368796,\n",
              "  0.07639844524088191,\n",
              "  0.05165551795842795,\n",
              "  0.05859669214292296,\n",
              "  0.13461473204232957,\n",
              "  0.06694461964421597,\n",
              "  0.1377394458465169,\n",
              "  0.0676020859216601,\n",
              "  0.1393615066778538,\n",
              "  0.10273834266967262,\n",
              "  0.04591836593670774,\n",
              "  0.04412112991495939,\n",
              "  0.14403458728414592],\n",
              " 'val_acc': [0.9367,\n",
              "  0.9502,\n",
              "  0.934,\n",
              "  0.9688,\n",
              "  0.9665,\n",
              "  0.9711,\n",
              "  0.967,\n",
              "  0.97,\n",
              "  0.973,\n",
              "  0.9731,\n",
              "  0.9729,\n",
              "  0.9737,\n",
              "  0.9719,\n",
              "  0.9728,\n",
              "  0.9704,\n",
              "  0.9753,\n",
              "  0.9703,\n",
              "  0.9702,\n",
              "  0.9658,\n",
              "  0.974,\n",
              "  0.9759,\n",
              "  0.9786,\n",
              "  0.9751,\n",
              "  0.9679,\n",
              "  0.9773,\n",
              "  0.9735,\n",
              "  0.9729,\n",
              "  0.9787,\n",
              "  0.9742,\n",
              "  0.9759,\n",
              "  0.9759,\n",
              "  0.9738,\n",
              "  0.9777,\n",
              "  0.9765,\n",
              "  0.971,\n",
              "  0.9691,\n",
              "  0.9775,\n",
              "  0.9702,\n",
              "  0.9752,\n",
              "  0.9703,\n",
              "  0.9762,\n",
              "  0.9749,\n",
              "  0.9736,\n",
              "  0.9759,\n",
              "  0.9768,\n",
              "  0.9789,\n",
              "  0.9772,\n",
              "  0.9747,\n",
              "  0.9763,\n",
              "  0.964,\n",
              "  0.9719,\n",
              "  0.9769,\n",
              "  0.9762,\n",
              "  0.9674,\n",
              "  0.9772,\n",
              "  0.9755,\n",
              "  0.9764,\n",
              "  0.9718,\n",
              "  0.9713,\n",
              "  0.9739,\n",
              "  0.9761,\n",
              "  0.974,\n",
              "  0.9696,\n",
              "  0.9762,\n",
              "  0.9748,\n",
              "  0.9759,\n",
              "  0.9725,\n",
              "  0.9755,\n",
              "  0.9738,\n",
              "  0.9732,\n",
              "  0.9688,\n",
              "  0.9676,\n",
              "  0.9719,\n",
              "  0.9704,\n",
              "  0.9721,\n",
              "  0.9743,\n",
              "  0.9724,\n",
              "  0.9692,\n",
              "  0.9767,\n",
              "  0.9718,\n",
              "  0.9694,\n",
              "  0.9715,\n",
              "  0.9725,\n",
              "  0.9765,\n",
              "  0.9718,\n",
              "  0.9642,\n",
              "  0.9651,\n",
              "  0.9762,\n",
              "  0.9765,\n",
              "  0.9742,\n",
              "  0.977,\n",
              "  0.9537,\n",
              "  0.9724,\n",
              "  0.9683,\n",
              "  0.9696,\n",
              "  0.9762,\n",
              "  0.9721,\n",
              "  0.9737,\n",
              "  0.9682,\n",
              "  0.8819],\n",
              " 'val_loss': [0.21439831685526298,\n",
              "  0.1828609022140503,\n",
              "  0.24178474902398883,\n",
              "  0.11898337679691613,\n",
              "  0.131350586169539,\n",
              "  0.12390126999584027,\n",
              "  0.13425457409168592,\n",
              "  0.1347906113270903,\n",
              "  0.11094731587344431,\n",
              "  0.11864767919452861,\n",
              "  0.13548529004815502,\n",
              "  0.1180579885655432,\n",
              "  0.13077742625053215,\n",
              "  0.13254300943787384,\n",
              "  0.13063651094425005,\n",
              "  0.11905393821367762,\n",
              "  0.1341429345324839,\n",
              "  0.14374012353289337,\n",
              "  0.1788332214672584,\n",
              "  0.12549818401827942,\n",
              "  0.1288007301330472,\n",
              "  0.11547004383511375,\n",
              "  0.16162027873004992,\n",
              "  0.1601789421716938,\n",
              "  0.13774374604119693,\n",
              "  0.152409945781024,\n",
              "  0.15108923145254735,\n",
              "  0.1232465820467338,\n",
              "  0.1461987779603005,\n",
              "  0.1705877678723236,\n",
              "  0.14007168651250063,\n",
              "  0.1750502722968038,\n",
              "  0.1411612337440385,\n",
              "  0.16598761361008896,\n",
              "  0.17628572829737185,\n",
              "  0.22201215929085782,\n",
              "  0.15848816763517243,\n",
              "  0.2385802526145852,\n",
              "  0.16214298472130045,\n",
              "  0.24756549519785212,\n",
              "  0.18432433947547353,\n",
              "  0.19260336800300007,\n",
              "  0.20317737232345776,\n",
              "  0.17479125093038914,\n",
              "  0.15146351918275164,\n",
              "  0.16912004816774337,\n",
              "  0.15238781973450086,\n",
              "  0.21438495110098316,\n",
              "  0.17860422250494884,\n",
              "  0.2250050816428644,\n",
              "  0.20025079901798346,\n",
              "  0.16803635135119563,\n",
              "  0.2236573523514483,\n",
              "  0.33366359479440827,\n",
              "  0.16862935836141457,\n",
              "  0.19441202535420063,\n",
              "  0.19583636100060425,\n",
              "  0.19289541072820854,\n",
              "  0.22957840911059837,\n",
              "  0.21490668178078567,\n",
              "  0.19793063254529003,\n",
              "  0.1878240398760707,\n",
              "  0.20364714100500975,\n",
              "  0.20983465560817013,\n",
              "  0.2574072246609202,\n",
              "  0.1925887444634921,\n",
              "  0.2606683373877264,\n",
              "  0.23386330338273173,\n",
              "  0.1999901582594722,\n",
              "  0.21534908634660915,\n",
              "  0.3023845316672572,\n",
              "  0.3139378466828863,\n",
              "  0.23337331931019517,\n",
              "  0.2748666313205356,\n",
              "  0.2580565004373176,\n",
              "  0.20642608281452107,\n",
              "  0.21685949422340678,\n",
              "  0.24042631985859034,\n",
              "  0.2057386654228928,\n",
              "  0.21613408254701572,\n",
              "  0.36337569056551117,\n",
              "  0.2235983322011843,\n",
              "  0.19029961628071268,\n",
              "  0.22030707050695875,\n",
              "  0.23571730099592836,\n",
              "  0.3939956058134222,\n",
              "  0.34817924126507904,\n",
              "  0.2479914940002473,\n",
              "  0.18610774358666032,\n",
              "  0.22184936770000335,\n",
              "  0.21653390875288095,\n",
              "  0.3287765798520995,\n",
              "  0.1846561417446671,\n",
              "  0.24374136615405773,\n",
              "  0.26968020170166546,\n",
              "  0.23863891496845607,\n",
              "  0.25532977525924405,\n",
              "  0.2135025982676706,\n",
              "  0.2863695003138085,\n",
              "  0.48198858096599595]}"
            ]
          },
          "metadata": {
            "tags": []
          },
          "execution_count": 9
        }
      ]
    },
    {
      "cell_type": "code",
      "metadata": {
        "id": "wuQdZEsWRt0-",
        "colab_type": "code",
        "colab": {
          "base_uri": "https://localhost:8080/",
          "height": 286
        },
        "outputId": "7cbb634a-0833-4f67-a16a-0cd3c25469e4"
      },
      "source": [
        "import matplotlib.pyplot as plt \n",
        "#we are plotting the epoch number vs the accuracy\n",
        "plt.plot(_4.epoch,_4.history['acc'])\n",
        "plt.plot(_4.epoch,_4.history['val_acc'])"
      ],
      "execution_count": 10,
      "outputs": [
        {
          "output_type": "execute_result",
          "data": {
            "text/plain": [
              "[<matplotlib.lines.Line2D at 0x7f71b01be6d8>]"
            ]
          },
          "metadata": {
            "tags": []
          },
          "execution_count": 10
        },
        {
          "output_type": "display_data",
          "data": {
            "image/png": "[encoded data removed]",
            "text/plain": [
              "<Figure size 432x288 with 1 Axes>"
            ]
          },
          "metadata": {
            "tags": []
          }
        }
      ]
    },
    {
      "cell_type": "code",
      "metadata": {
        "id": "7sp1Q3zSRuC2",
        "colab_type": "code",
        "colab": {
          "base_uri": "https://localhost:8080/",
          "height": 286
        },
        "outputId": "a4364047-c28f-4a0f-824f-00b8300f05a4"
      },
      "source": [
        "import matplotlib.pyplot as plt\n",
        "plt.plot(_4.epoch,_4.history['loss'])\n",
        "plt.plot(_4.epoch,_4.history['val_loss'])"
      ],
      "execution_count": 13,
      "outputs": [
        {
          "output_type": "execute_result",
          "data": {
            "text/plain": [
              "[<matplotlib.lines.Line2D at 0x7f71c074b7f0>]"
            ]
          },
          "metadata": {
            "tags": []
          },
          "execution_count": 13
        },
        {
          "output_type": "display_data",
          "data": {
            "image/png": "[encoded data removed]",
            "text/plain": [
              "<Figure size 432x288 with 1 Axes>"
            ]
          },
          "metadata": {
            "tags": []
          }
        }
      ]
    },
    {
      "cell_type": "code",
      "metadata": {
        "id": "YAvnpRYxRt_p",
        "colab_type": "code",
        "colab": {}
      },
      "source": [
        ""
      ],
      "execution_count": 0,
      "outputs": []
    },
    {
      "cell_type": "code",
      "metadata": {
        "id": "QQAnUcXLRt9s",
        "colab_type": "code",
        "colab": {}
      },
      "source": [
        ""
      ],
      "execution_count": 0,
      "outputs": []
    },
    {
      "cell_type": "code",
      "metadata": {
        "id": "7o2iU4cLRt7T",
        "colab_type": "code",
        "colab": {}
      },
      "source": [
        ""
      ],
      "execution_count": 0,
      "outputs": []
    },
    {
      "cell_type": "code",
      "metadata": {
        "id": "hPBwPzQFRt5C",
        "colab_type": "code",
        "colab": {}
      },
      "source": [
        ""
      ],
      "execution_count": 0,
      "outputs": []
    },
    {
      "cell_type": "code",
      "metadata": {
        "id": "LoAIkUCNRtvq",
        "colab_type": "code",
        "colab": {}
      },
      "source": [
        ""
      ],
      "execution_count": 0,
      "outputs": []
    },
    {
      "cell_type": "code",
      "metadata": {
        "id": "Hb6W__aQyDeA",
        "colab_type": "code",
        "outputId": "701da4f6-b319-4acb-eec4-4ea734db38c3",
        "colab": {
          "base_uri": "https://localhost:8080/",
          "height": 816
        }
      },
      "source": [
        "dir()"
      ],
      "execution_count": 0,
      "outputs": [
        {
          "output_type": "execute_result",
          "data": {
            "text/plain": [
              "['Callback',\n",
              " 'Config',\n",
              " 'Dense',\n",
              " 'Dropout',\n",
              " 'Flatten',\n",
              " 'In',\n",
              " 'Out',\n",
              " 'Sequential',\n",
              " 'X_test',\n",
              " 'X_train',\n",
              " '_',\n",
              " '__',\n",
              " '___',\n",
              " '__builtin__',\n",
              " '__builtins__',\n",
              " '__doc__',\n",
              " '__loader__',\n",
              " '__name__',\n",
              " '__package__',\n",
              " '__spec__',\n",
              " '_dh',\n",
              " '_i',\n",
              " '_i1',\n",
              " '_i2',\n",
              " '_i3',\n",
              " '_i4',\n",
              " '_i5',\n",
              " '_ih',\n",
              " '_ii',\n",
              " '_iii',\n",
              " '_oh',\n",
              " '_sh',\n",
              " 'config',\n",
              " 'exit',\n",
              " 'get_ipython',\n",
              " 'img_height',\n",
              " 'img_width',\n",
              " 'json',\n",
              " 'labels',\n",
              " 'mnist',\n",
              " 'model',\n",
              " 'np',\n",
              " 'np_utils',\n",
              " 'num_classes',\n",
              " 'quit',\n",
              " 'y_test',\n",
              " 'y_train']"
            ]
          },
          "metadata": {
            "tags": []
          },
          "execution_count": 5
        }
      ]
    },
    {
      "cell_type": "code",
      "metadata": {
        "id": "96Ll4-2Kqhmq",
        "colab_type": "code",
        "outputId": "c0d96415-f653-460c-9c83-77448e25ff18",
        "colab": {
          "base_uri": "https://localhost:8080/",
          "height": 163
        }
      },
      "source": [
        "_10"
      ],
      "execution_count": 0,
      "outputs": [
        {
          "output_type": "error",
          "ename": "NameError",
          "evalue": "ignored",
          "traceback": [
            "\u001b[0;31m---------------------------------------------------------------------------\u001b[0m",
            "\u001b[0;31mNameError\u001b[0m                                 Traceback (most recent call last)",
            "\u001b[0;32m<ipython-input-6-1b4e154f3864>\u001b[0m in \u001b[0;36m<module>\u001b[0;34m()\u001b[0m\n\u001b[0;32m----> 1\u001b[0;31m \u001b[0m_10\u001b[0m\u001b[0;34m\u001b[0m\u001b[0;34m\u001b[0m\u001b[0m\n\u001b[0m",
            "\u001b[0;31mNameError\u001b[0m: name '_10' is not defined"
          ]
        }
      ]
    },
    {
      "cell_type": "code",
      "metadata": {
        "id": "Xc-lIPMzyZpI",
        "colab_type": "code",
        "outputId": "a1e183d5-7afd-455b-d153-bd95b5c596ae",
        "colab": {
          "base_uri": "https://localhost:8080/",
          "height": 34
        }
      },
      "source": [
        "_5\n"
      ],
      "execution_count": 7,
      "outputs": [
        {
          "output_type": "execute_result",
          "data": {
            "text/plain": [
              "array([0., 0., 0., 0., 0., 1., 0., 0., 0., 0.], dtype=float32)"
            ]
          },
          "metadata": {
            "tags": []
          },
          "execution_count": 7
        }
      ]
    },
    {
      "cell_type": "code",
      "metadata": {
        "id": "8B-EJV-xyfZb",
        "colab_type": "code",
        "outputId": "d359fbed-934b-4be0-9c06-fb9968c474ae",
        "colab": {
          "base_uri": "https://localhost:8080/",
          "height": 180
        }
      },
      "source": [
        "history.history\n",
        "\n"
      ],
      "execution_count": 0,
      "outputs": [
        {
          "output_type": "error",
          "ename": "NameError",
          "evalue": "ignored",
          "traceback": [
            "\u001b[0;31m---------------------------------------------------------------------------\u001b[0m",
            "\u001b[0;31mNameError\u001b[0m                                 Traceback (most recent call last)",
            "\u001b[0;32m<ipython-input-9-4346435b799e>\u001b[0m in \u001b[0;36m<module>\u001b[0;34m()\u001b[0m\n\u001b[0;32m----> 1\u001b[0;31m \u001b[0mhistory\u001b[0m\u001b[0;34m.\u001b[0m\u001b[0mhistory\u001b[0m\u001b[0;34m\u001b[0m\u001b[0;34m\u001b[0m\u001b[0m\n\u001b[0m\u001b[1;32m      2\u001b[0m \u001b[0;34m\u001b[0m\u001b[0m\n",
            "\u001b[0;31mNameError\u001b[0m: name 'history' is not defined"
          ]
        }
      ]
    },
    {
      "cell_type": "code",
      "metadata": {
        "id": "9NfnOsWfyqBs",
        "colab_type": "code",
        "outputId": "516e58dc-304d-4916-a20b-8bfbc40fc154",
        "colab": {
          "base_uri": "https://localhost:8080/",
          "height": 163
        }
      },
      "source": [
        "_1"
      ],
      "execution_count": 0,
      "outputs": [
        {
          "output_type": "error",
          "ename": "NameError",
          "evalue": "ignored",
          "traceback": [
            "\u001b[0;31m---------------------------------------------------------------------------\u001b[0m",
            "\u001b[0;31mNameError\u001b[0m                                 Traceback (most recent call last)",
            "\u001b[0;32m<ipython-input-10-2fee90e148a2>\u001b[0m in \u001b[0;36m<module>\u001b[0;34m()\u001b[0m\n\u001b[0;32m----> 1\u001b[0;31m \u001b[0m_1\u001b[0m\u001b[0;34m\u001b[0m\u001b[0;34m\u001b[0m\u001b[0m\n\u001b[0m",
            "\u001b[0;31mNameError\u001b[0m: name '_1' is not defined"
          ]
        }
      ]
    },
    {
      "cell_type": "code",
      "metadata": {
        "id": "vUZTI3xIy6yO",
        "colab_type": "code",
        "outputId": "02682576-773f-4ed9-a8fa-e692eb11f2e8",
        "colab": {
          "base_uri": "https://localhost:8080/",
          "height": 34
        }
      },
      "source": [
        "-5"
      ],
      "execution_count": 0,
      "outputs": [
        {
          "output_type": "execute_result",
          "data": {
            "text/plain": [
              "-5"
            ]
          },
          "metadata": {
            "tags": []
          },
          "execution_count": 11
        }
      ]
    },
    {
      "cell_type": "code",
      "metadata": {
        "id": "lIrpwe0gy9cz",
        "colab_type": "code",
        "outputId": "0229b7b4-2ae8-440a-f9f3-33b3a85fa3d1",
        "colab": {
          "base_uri": "https://localhost:8080/",
          "height": 163
        }
      },
      "source": [
        "_7"
      ],
      "execution_count": 0,
      "outputs": [
        {
          "output_type": "error",
          "ename": "NameError",
          "evalue": "ignored",
          "traceback": [
            "\u001b[0;31m---------------------------------------------------------------------------\u001b[0m",
            "\u001b[0;31mNameError\u001b[0m                                 Traceback (most recent call last)",
            "\u001b[0;32m<ipython-input-12-a4d38d4db59c>\u001b[0m in \u001b[0;36m<module>\u001b[0;34m()\u001b[0m\n\u001b[0;32m----> 1\u001b[0;31m \u001b[0m_7\u001b[0m\u001b[0;34m\u001b[0m\u001b[0;34m\u001b[0m\u001b[0m\n\u001b[0m",
            "\u001b[0;31mNameError\u001b[0m: name '_7' is not defined"
          ]
        }
      ]
    },
    {
      "cell_type": "code",
      "metadata": {
        "id": "ZymKIjC_y-_Q",
        "colab_type": "code",
        "outputId": "14d334dd-65ba-4fda-ee18-8e48e653faaa",
        "colab": {
          "base_uri": "https://localhost:8080/",
          "height": 986
        }
      },
      "source": [
        "dir()"
      ],
      "execution_count": 0,
      "outputs": [
        {
          "output_type": "execute_result",
          "data": {
            "text/plain": [
              "['Callback',\n",
              " 'Config',\n",
              " 'Dense',\n",
              " 'Dropout',\n",
              " 'Flatten',\n",
              " 'In',\n",
              " 'Out',\n",
              " 'Sequential',\n",
              " 'X_test',\n",
              " 'X_train',\n",
              " '_',\n",
              " '_11',\n",
              " '_5',\n",
              " '__',\n",
              " '___',\n",
              " '__builtin__',\n",
              " '__builtins__',\n",
              " '__doc__',\n",
              " '__loader__',\n",
              " '__name__',\n",
              " '__package__',\n",
              " '__spec__',\n",
              " '_dh',\n",
              " '_i',\n",
              " '_i1',\n",
              " '_i10',\n",
              " '_i11',\n",
              " '_i12',\n",
              " '_i13',\n",
              " '_i2',\n",
              " '_i3',\n",
              " '_i4',\n",
              " '_i5',\n",
              " '_i6',\n",
              " '_i7',\n",
              " '_i8',\n",
              " '_i9',\n",
              " '_ih',\n",
              " '_ii',\n",
              " '_iii',\n",
              " '_oh',\n",
              " '_sh',\n",
              " 'config',\n",
              " 'exit',\n",
              " 'get_ipython',\n",
              " 'img_height',\n",
              " 'img_width',\n",
              " 'json',\n",
              " 'labels',\n",
              " 'mnist',\n",
              " 'model',\n",
              " 'np',\n",
              " 'np_utils',\n",
              " 'num_classes',\n",
              " 'quit',\n",
              " 'y_test',\n",
              " 'y_train']"
            ]
          },
          "metadata": {
            "tags": []
          },
          "execution_count": 13
        }
      ]
    },
    {
      "cell_type": "code",
      "metadata": {
        "id": "SApGocBWzGCg",
        "colab_type": "code",
        "outputId": "3a8d63df-35ba-4ced-becf-94e748137b03",
        "colab": {
          "base_uri": "https://localhost:8080/",
          "height": 816
        }
      },
      "source": [
        "_5\n"
      ],
      "execution_count": 0,
      "outputs": [
        {
          "output_type": "execute_result",
          "data": {
            "text/plain": [
              "['Callback',\n",
              " 'Config',\n",
              " 'Dense',\n",
              " 'Dropout',\n",
              " 'Flatten',\n",
              " 'In',\n",
              " 'Out',\n",
              " 'Sequential',\n",
              " 'X_test',\n",
              " 'X_train',\n",
              " '_',\n",
              " '__',\n",
              " '___',\n",
              " '__builtin__',\n",
              " '__builtins__',\n",
              " '__doc__',\n",
              " '__loader__',\n",
              " '__name__',\n",
              " '__package__',\n",
              " '__spec__',\n",
              " '_dh',\n",
              " '_i',\n",
              " '_i1',\n",
              " '_i2',\n",
              " '_i3',\n",
              " '_i4',\n",
              " '_i5',\n",
              " '_ih',\n",
              " '_ii',\n",
              " '_iii',\n",
              " '_oh',\n",
              " '_sh',\n",
              " 'config',\n",
              " 'exit',\n",
              " 'get_ipython',\n",
              " 'img_height',\n",
              " 'img_width',\n",
              " 'json',\n",
              " 'labels',\n",
              " 'mnist',\n",
              " 'model',\n",
              " 'np',\n",
              " 'np_utils',\n",
              " 'num_classes',\n",
              " 'quit',\n",
              " 'y_test',\n",
              " 'y_train']"
            ]
          },
          "metadata": {
            "tags": []
          },
          "execution_count": 14
        }
      ]
    },
    {
      "cell_type": "code",
      "metadata": {
        "id": "cWEQmfG1zKWX",
        "colab_type": "code",
        "outputId": "0ba7347d-5656-4ce7-ffc9-6191b9435e3e",
        "colab": {
          "base_uri": "https://localhost:8080/",
          "height": 163
        }
      },
      "source": [
        "_6"
      ],
      "execution_count": 0,
      "outputs": [
        {
          "output_type": "error",
          "ename": "NameError",
          "evalue": "ignored",
          "traceback": [
            "\u001b[0;31m---------------------------------------------------------------------------\u001b[0m",
            "\u001b[0;31mNameError\u001b[0m                                 Traceback (most recent call last)",
            "\u001b[0;32m<ipython-input-15-80c266c3f70d>\u001b[0m in \u001b[0;36m<module>\u001b[0;34m()\u001b[0m\n\u001b[0;32m----> 1\u001b[0;31m \u001b[0m_6\u001b[0m\u001b[0;34m\u001b[0m\u001b[0;34m\u001b[0m\u001b[0m\n\u001b[0m",
            "\u001b[0;31mNameError\u001b[0m: name '_6' is not defined"
          ]
        }
      ]
    },
    {
      "cell_type": "code",
      "metadata": {
        "id": "E0fkhA1PzR7m",
        "colab_type": "code",
        "outputId": "77c1bc39-27be-4832-cf4b-d4fea6045f2b",
        "colab": {
          "base_uri": "https://localhost:8080/",
          "height": 163
        }
      },
      "source": [
        "_7"
      ],
      "execution_count": 0,
      "outputs": [
        {
          "output_type": "error",
          "ename": "NameError",
          "evalue": "ignored",
          "traceback": [
            "\u001b[0;31m---------------------------------------------------------------------------\u001b[0m",
            "\u001b[0;31mNameError\u001b[0m                                 Traceback (most recent call last)",
            "\u001b[0;32m<ipython-input-16-a4d38d4db59c>\u001b[0m in \u001b[0;36m<module>\u001b[0;34m()\u001b[0m\n\u001b[0;32m----> 1\u001b[0;31m \u001b[0m_7\u001b[0m\u001b[0;34m\u001b[0m\u001b[0;34m\u001b[0m\u001b[0m\n\u001b[0m",
            "\u001b[0;31mNameError\u001b[0m: name '_7' is not defined"
          ]
        }
      ]
    },
    {
      "cell_type": "code",
      "metadata": {
        "id": "lg26QDaezTiO",
        "colab_type": "code",
        "outputId": "0a447b75-4390-40d0-febe-cf4026a4d986",
        "colab": {
          "base_uri": "https://localhost:8080/",
          "height": 163
        }
      },
      "source": [
        "_10"
      ],
      "execution_count": 0,
      "outputs": [
        {
          "output_type": "error",
          "ename": "NameError",
          "evalue": "ignored",
          "traceback": [
            "\u001b[0;31m---------------------------------------------------------------------------\u001b[0m",
            "\u001b[0;31mNameError\u001b[0m                                 Traceback (most recent call last)",
            "\u001b[0;32m<ipython-input-17-1b4e154f3864>\u001b[0m in \u001b[0;36m<module>\u001b[0;34m()\u001b[0m\n\u001b[0;32m----> 1\u001b[0;31m \u001b[0m_10\u001b[0m\u001b[0;34m\u001b[0m\u001b[0;34m\u001b[0m\u001b[0m\n\u001b[0m",
            "\u001b[0;31mNameError\u001b[0m: name '_10' is not defined"
          ]
        }
      ]
    },
    {
      "cell_type": "code",
      "metadata": {
        "id": "dfOY-ptQzZ1O",
        "colab_type": "code",
        "outputId": "d1f583a2-372c-479f-df58-f3025245f447",
        "colab": {
          "base_uri": "https://localhost:8080/",
          "height": 34
        }
      },
      "source": [
        "_18"
      ],
      "execution_count": 0,
      "outputs": [
        {
          "output_type": "execute_result",
          "data": {
            "text/plain": [
              "<keras.callbacks.History at 0x7f4e0043ef60>"
            ]
          },
          "metadata": {
            "tags": []
          },
          "execution_count": 19
        }
      ]
    },
    {
      "cell_type": "code",
      "metadata": {
        "id": "NWkPIckv0sq1",
        "colab_type": "code",
        "colab": {}
      },
      "source": [
        "history =_18.history"
      ],
      "execution_count": 0,
      "outputs": []
    },
    {
      "cell_type": "code",
      "metadata": {
        "id": "_C8W2V5d0zno",
        "colab_type": "code",
        "outputId": "57c61d4b-5225-4819-e87f-389cc2149547",
        "colab": {
          "base_uri": "https://localhost:8080/",
          "height": 1000
        }
      },
      "source": [
        "history"
      ],
      "execution_count": 0,
      "outputs": [
        {
          "output_type": "execute_result",
          "data": {
            "text/plain": [
              "{'acc': [0.8358833333333333,\n",
              "  0.91105,\n",
              "  0.9193666666666667,\n",
              "  0.9217666666666666,\n",
              "  0.9273,\n",
              "  0.92745,\n",
              "  0.9279666666666667,\n",
              "  0.93255,\n",
              "  0.9320333333333334,\n",
              "  0.9297166666666666,\n",
              "  0.9352,\n",
              "  0.9326166666666666,\n",
              "  0.9340833333333334,\n",
              "  0.93265,\n",
              "  0.9318,\n",
              "  0.9341833333333334,\n",
              "  0.9276833333333333,\n",
              "  0.9302333333333334,\n",
              "  0.9309,\n",
              "  0.9350333333333334,\n",
              "  0.9361333333333334,\n",
              "  0.9341833333333334,\n",
              "  0.9354166666666667,\n",
              "  0.9332,\n",
              "  0.9330666666666667,\n",
              "  0.9332833333333334,\n",
              "  0.9341,\n",
              "  0.9367333333333333,\n",
              "  0.9363,\n",
              "  0.9327833333333333],\n",
              " 'loss': [2.578277823247518,\n",
              "  1.350295377962739,\n",
              "  1.2321985430409368,\n",
              "  1.2045812534247347,\n",
              "  1.1187852471777686,\n",
              "  1.1202610270469633,\n",
              "  1.1157494241245125,\n",
              "  1.0488813149188616,\n",
              "  1.0613218227844836,\n",
              "  1.0993211952297681,\n",
              "  1.015318267906588,\n",
              "  1.05932507040764,\n",
              "  1.0348280632544198,\n",
              "  1.0582887157358796,\n",
              "  1.079614551839815,\n",
              "  1.04285508627939,\n",
              "  1.1447634934815123,\n",
              "  1.1050497670881572,\n",
              "  1.0960552053985497,\n",
              "  1.0301604171702043,\n",
              "  1.011710716808073,\n",
              "  1.0458459315834028,\n",
              "  1.0241147152806713,\n",
              "  1.0624850790609102,\n",
              "  1.0685279387727316,\n",
              "  1.060649642537051,\n",
              "  1.0503451935741164,\n",
              "  1.0077333845918761,\n",
              "  1.0152201731261583,\n",
              "  1.073118314008324],\n",
              " 'val_acc': [0.9037,\n",
              "  0.9165,\n",
              "  0.9184,\n",
              "  0.9177,\n",
              "  0.9206,\n",
              "  0.918,\n",
              "  0.9307,\n",
              "  0.9218,\n",
              "  0.9341,\n",
              "  0.9312,\n",
              "  0.9389,\n",
              "  0.9287,\n",
              "  0.9279,\n",
              "  0.9377,\n",
              "  0.9337,\n",
              "  0.9145,\n",
              "  0.9026,\n",
              "  0.9358,\n",
              "  0.9289,\n",
              "  0.9355,\n",
              "  0.9353,\n",
              "  0.9367,\n",
              "  0.9206,\n",
              "  0.9342,\n",
              "  0.9243,\n",
              "  0.9377,\n",
              "  0.9333,\n",
              "  0.9367,\n",
              "  0.9439,\n",
              "  0.9349],\n",
              " 'val_loss': [1.463656291937322,\n",
              "  1.2561272192069406,\n",
              "  1.2623490023030979,\n",
              "  1.2556522017346168,\n",
              "  1.2259938438776905,\n",
              "  1.2603963665202704,\n",
              "  1.0843458131907562,\n",
              "  1.2271177006244662,\n",
              "  1.0303621194855368,\n",
              "  1.0916343992225663,\n",
              "  0.955562509785686,\n",
              "  1.123330283011892,\n",
              "  1.1321363643983173,\n",
              "  0.9857256496325312,\n",
              "  1.0433518192464213,\n",
              "  1.3536073775291444,\n",
              "  1.5433110733985902,\n",
              "  1.0170486986586158,\n",
              "  1.1279364738881963,\n",
              "  1.0207586556036028,\n",
              "  1.0296777680516247,\n",
              "  1.0076851844519932,\n",
              "  1.2590283142136904,\n",
              "  1.0485241791516546,\n",
              "  1.2048230994722584,\n",
              "  0.9924105619072919,\n",
              "  1.067535915215829,\n",
              "  1.008410008993815,\n",
              "  0.8972095296364281,\n",
              "  1.0398277679562573]}"
            ]
          },
          "metadata": {
            "tags": []
          },
          "execution_count": 21
        }
      ]
    },
    {
      "cell_type": "code",
      "metadata": {
        "id": "dpdY0i4603il",
        "colab_type": "code",
        "outputId": "7efa4ed4-d8c7-478f-ffd0-48ef049cc387",
        "colab": {
          "base_uri": "https://localhost:8080/",
          "height": 286
        }
      },
      "source": [
        "import matplotlib.pyplot as plt\n",
        "plt.plot(_18.epoch,_18.history['acc'])\n",
        "plt.plot(_18.epoch,_18.history['val_acc'])"
      ],
      "execution_count": 0,
      "outputs": [
        {
          "output_type": "execute_result",
          "data": {
            "text/plain": [
              "[<matplotlib.lines.Line2D at 0x7f4e0029eb70>]"
            ]
          },
          "metadata": {
            "tags": []
          },
          "execution_count": 28
        },
        {
          "output_type": "display_data",
          "data": {
            "image/png": "[encoded data removed]",
            "text/plain": [
              "<Figure size 432x288 with 1 Axes>"
            ]
          },
          "metadata": {
            "tags": []
          }
        }
      ]
    },
    {
      "cell_type": "code",
      "metadata": {
        "id": "KdkBmMN23Ulb",
        "colab_type": "code",
        "outputId": "b3e8d677-0a81-47ec-8fd6-9e6dcf8f9e63",
        "colab": {
          "base_uri": "https://localhost:8080/",
          "height": 34
        }
      },
      "source": [
        "type(history)"
      ],
      "execution_count": 0,
      "outputs": [
        {
          "output_type": "execute_result",
          "data": {
            "text/plain": [
              "dict"
            ]
          },
          "metadata": {
            "tags": []
          },
          "execution_count": 23
        }
      ]
    },
    {
      "cell_type": "code",
      "metadata": {
        "id": "JSsEix5B4QRV",
        "colab_type": "code",
        "outputId": "81e0f974-3696-4878-c749-d7bad0eb02fa",
        "colab": {
          "base_uri": "https://localhost:8080/",
          "height": 163
        }
      },
      "source": [
        "history.epoch\n"
      ],
      "execution_count": 0,
      "outputs": [
        {
          "output_type": "error",
          "ename": "AttributeError",
          "evalue": "ignored",
          "traceback": [
            "\u001b[0;31m---------------------------------------------------------------------------\u001b[0m",
            "\u001b[0;31mAttributeError\u001b[0m                            Traceback (most recent call last)",
            "\u001b[0;32m<ipython-input-24-6fd66ed6bf74>\u001b[0m in \u001b[0;36m<module>\u001b[0;34m()\u001b[0m\n\u001b[0;32m----> 1\u001b[0;31m \u001b[0mhistory\u001b[0m\u001b[0;34m.\u001b[0m\u001b[0mepoch\u001b[0m\u001b[0;34m\u001b[0m\u001b[0;34m\u001b[0m\u001b[0m\n\u001b[0m",
            "\u001b[0;31mAttributeError\u001b[0m: 'dict' object has no attribute 'epoch'"
          ]
        }
      ]
    },
    {
      "cell_type": "code",
      "metadata": {
        "id": "qZkbfUGm4S1S",
        "colab_type": "code",
        "outputId": "0c9a32d0-c501-47ba-cc59-050690a5e518",
        "colab": {
          "base_uri": "https://localhost:8080/",
          "height": 34
        }
      },
      "source": [
        "type(_18.history)\n"
      ],
      "execution_count": 0,
      "outputs": [
        {
          "output_type": "execute_result",
          "data": {
            "text/plain": [
              "dict"
            ]
          },
          "metadata": {
            "tags": []
          },
          "execution_count": 29
        }
      ]
    },
    {
      "cell_type": "code",
      "metadata": {
        "id": "g9uivfag5awn",
        "colab_type": "code",
        "outputId": "ece97346-8bce-4c08-be50-f34f254271fb",
        "colab": {
          "base_uri": "https://localhost:8080/",
          "height": 34
        }
      },
      "source": [
        "_18.history.keys"
      ],
      "execution_count": 0,
      "outputs": [
        {
          "output_type": "execute_result",
          "data": {
            "text/plain": [
              "<function dict.keys>"
            ]
          },
          "metadata": {
            "tags": []
          },
          "execution_count": 30
        }
      ]
    },
    {
      "cell_type": "code",
      "metadata": {
        "id": "fW1K9ud75va3",
        "colab_type": "code",
        "outputId": "dceb6cd5-333d-4ae5-d2d3-6d54953f4ce9",
        "colab": {
          "base_uri": "https://localhost:8080/",
          "height": 286
        }
      },
      "source": [
        "import matplotlib.pyplot as plt\n",
        "plt.plot(_18.epoch,_18.history['loss'])\n",
        "plt.plot(_18.epoch,_18.history['val_loss'])"
      ],
      "execution_count": 0,
      "outputs": [
        {
          "output_type": "execute_result",
          "data": {
            "text/plain": [
              "[<matplotlib.lines.Line2D at 0x7f4e00205128>]"
            ]
          },
          "metadata": {
            "tags": []
          },
          "execution_count": 31
        },
        {
          "output_type": "display_data",
          "data": {
            "image/png": "[encoded data removed]",
            "text/plain": [
              "<Figure size 432x288 with 1 Axes>"
            ]
          },
          "metadata": {
            "tags": []
          }
        }
      ]
    },
    {
      "cell_type": "code",
      "metadata": {
        "id": "_CK3xgIL6Gfi",
        "colab_type": "code",
        "colab": {}
      },
      "source": [
        ""
      ],
      "execution_count": 0,
      "outputs": []
    }
  ]
}